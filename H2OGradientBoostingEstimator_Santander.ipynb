{
  "nbformat": 4,
  "nbformat_minor": 0,
  "metadata": {
    "colab": {
      "name": "PML Day 15 Santander.ipynb",
      "provenance": []
    },
    "kernelspec": {
      "name": "python3",
      "display_name": "Python 3"
    },
    "language_info": {
      "name": "python"
    }
  },
  "cells": [
    {
      "cell_type": "code",
      "execution_count": null,
      "metadata": {
        "id": "Lxyr0k3dJLec"
      },
      "outputs": [],
      "source": [
        "! mkdir ~/.kaggle"
      ]
    },
    {
      "cell_type": "code",
      "source": [
        "! cp kaggle.json ~/.kaggle/"
      ],
      "metadata": {
        "id": "QpOx2dl1JiBw"
      },
      "execution_count": null,
      "outputs": []
    },
    {
      "cell_type": "code",
      "source": [
        "! chmod 600 ~/.kaggle/kaggle.json"
      ],
      "metadata": {
        "id": "NaQm-5qRJkxI"
      },
      "execution_count": null,
      "outputs": []
    },
    {
      "cell_type": "code",
      "source": [
        "! kaggle competitions download santander-customer-satisfaction"
      ],
      "metadata": {
        "colab": {
          "base_uri": "https://localhost:8080/"
        },
        "id": "47V7a3sCJnuW",
        "outputId": "c6f35b05-49ab-4508-8e11-ccce9dec4ac8"
      },
      "execution_count": null,
      "outputs": [
        {
          "output_type": "stream",
          "name": "stdout",
          "text": [
            "Downloading santander-customer-satisfaction.zip to /content\n",
            "\r  0% 0.00/8.25M [00:00<?, ?B/s]\n",
            "\r100% 8.25M/8.25M [00:00<00:00, 100MB/s]\n"
          ]
        }
      ]
    },
    {
      "cell_type": "code",
      "source": [
        "! unzip santander-customer-satisfaction.zip"
      ],
      "metadata": {
        "colab": {
          "base_uri": "https://localhost:8080/"
        },
        "id": "xGUxgDs6Jq70",
        "outputId": "180a7a0b-3156-4999-9ae6-8de843a65e1a"
      },
      "execution_count": null,
      "outputs": [
        {
          "output_type": "stream",
          "name": "stdout",
          "text": [
            "Archive:  santander-customer-satisfaction.zip\n",
            "  inflating: sample_submission.csv   \n",
            "  inflating: test.csv                \n",
            "  inflating: train.csv               \n"
          ]
        }
      ]
    },
    {
      "cell_type": "code",
      "source": [
        "! pip install h2o"
      ],
      "metadata": {
        "colab": {
          "base_uri": "https://localhost:8080/"
        },
        "id": "F9ziCaL4Jt6j",
        "outputId": "6e3bc042-0ecd-4672-9612-a0aec7658f06"
      },
      "execution_count": null,
      "outputs": [
        {
          "output_type": "stream",
          "name": "stdout",
          "text": [
            "Collecting h2o\n",
            "  Downloading h2o-3.36.1.1.tar.gz (177.0 MB)\n",
            "\u001b[K     |████████████████████████████████| 177.0 MB 20 kB/s \n",
            "\u001b[?25hRequirement already satisfied: requests in /usr/local/lib/python3.7/dist-packages (from h2o) (2.23.0)\n",
            "Requirement already satisfied: tabulate in /usr/local/lib/python3.7/dist-packages (from h2o) (0.8.9)\n",
            "Requirement already satisfied: future in /usr/local/lib/python3.7/dist-packages (from h2o) (0.16.0)\n",
            "Requirement already satisfied: idna<3,>=2.5 in /usr/local/lib/python3.7/dist-packages (from requests->h2o) (2.10)\n",
            "Requirement already satisfied: urllib3!=1.25.0,!=1.25.1,<1.26,>=1.21.1 in /usr/local/lib/python3.7/dist-packages (from requests->h2o) (1.24.3)\n",
            "Requirement already satisfied: chardet<4,>=3.0.2 in /usr/local/lib/python3.7/dist-packages (from requests->h2o) (3.0.4)\n",
            "Requirement already satisfied: certifi>=2017.4.17 in /usr/local/lib/python3.7/dist-packages (from requests->h2o) (2021.10.8)\n",
            "Building wheels for collected packages: h2o\n",
            "  Building wheel for h2o (setup.py) ... \u001b[?25l\u001b[?25hdone\n",
            "  Created wheel for h2o: filename=h2o-3.36.1.1-py2.py3-none-any.whl size=177068062 sha256=b089b3bb0421b49fe0202f537b553a9d0f86874edd46a96eb8461ab2431875af\n",
            "  Stored in directory: /root/.cache/pip/wheels/a6/d9/ab/5442447c7e2ccf07f66aa8b79f3877ce5382f0b95e6c0c797b\n",
            "Successfully built h2o\n",
            "Installing collected packages: h2o\n",
            "Successfully installed h2o-3.36.1.1\n"
          ]
        }
      ]
    },
    {
      "cell_type": "code",
      "source": [
        "import h2o\n",
        "import pandas as pd\n",
        "import numpy as np\n",
        "from h2o.grid.grid_search import H2OGridSearch\n",
        "from h2o.estimators.gbm import H2OGradientBoostingEstimator"
      ],
      "metadata": {
        "id": "qJGiPR74JxRw"
      },
      "execution_count": null,
      "outputs": []
    },
    {
      "cell_type": "code",
      "source": [
        "h2o.init()"
      ],
      "metadata": {
        "colab": {
          "base_uri": "https://localhost:8080/",
          "height": 516
        },
        "id": "4F99eQNwKERd",
        "outputId": "024df648-0086-4160-c575-1fc19ea1e82b"
      },
      "execution_count": null,
      "outputs": [
        {
          "output_type": "stream",
          "name": "stdout",
          "text": [
            "Checking whether there is an H2O instance running at http://localhost:54321 ..... not found.\n",
            "Attempting to start a local H2O server...\n",
            "  Java Version: openjdk version \"11.0.15\" 2022-04-19; OpenJDK Runtime Environment (build 11.0.15+10-Ubuntu-0ubuntu0.18.04.1); OpenJDK 64-Bit Server VM (build 11.0.15+10-Ubuntu-0ubuntu0.18.04.1, mixed mode, sharing)\n",
            "  Starting server from /usr/local/lib/python3.7/dist-packages/h2o/backend/bin/h2o.jar\n",
            "  Ice root: /tmp/tmp0ua9kcnw\n",
            "  JVM stdout: /tmp/tmp0ua9kcnw/h2o_unknownUser_started_from_python.out\n",
            "  JVM stderr: /tmp/tmp0ua9kcnw/h2o_unknownUser_started_from_python.err\n",
            "  Server is running at http://127.0.0.1:54321\n",
            "Connecting to H2O server at http://127.0.0.1:54321 ... successful.\n"
          ]
        },
        {
          "output_type": "display_data",
          "data": {
            "text/plain": [
              "--------------------------  ----------------------------------\n",
              "H2O_cluster_uptime:         02 secs\n",
              "H2O_cluster_timezone:       Etc/UTC\n",
              "H2O_data_parsing_timezone:  UTC\n",
              "H2O_cluster_version:        3.36.1.1\n",
              "H2O_cluster_version_age:    1 month and 7 days\n",
              "H2O_cluster_name:           H2O_from_python_unknownUser_2d31gq\n",
              "H2O_cluster_total_nodes:    1\n",
              "H2O_cluster_free_memory:    3.172 Gb\n",
              "H2O_cluster_total_cores:    2\n",
              "H2O_cluster_allowed_cores:  2\n",
              "H2O_cluster_status:         locked, healthy\n",
              "H2O_connection_url:         http://127.0.0.1:54321\n",
              "H2O_connection_proxy:       {\"http\": null, \"https\": null}\n",
              "H2O_internal_security:      False\n",
              "Python_version:             3.7.13 final\n",
              "--------------------------  ----------------------------------"
            ],
            "text/html": [
              "<div style=\"overflow:auto\"><table style=\"width:50%\"><tr><td>H2O_cluster_uptime:</td>\n",
              "<td>02 secs</td></tr>\n",
              "<tr><td>H2O_cluster_timezone:</td>\n",
              "<td>Etc/UTC</td></tr>\n",
              "<tr><td>H2O_data_parsing_timezone:</td>\n",
              "<td>UTC</td></tr>\n",
              "<tr><td>H2O_cluster_version:</td>\n",
              "<td>3.36.1.1</td></tr>\n",
              "<tr><td>H2O_cluster_version_age:</td>\n",
              "<td>1 month and 7 days </td></tr>\n",
              "<tr><td>H2O_cluster_name:</td>\n",
              "<td>H2O_from_python_unknownUser_2d31gq</td></tr>\n",
              "<tr><td>H2O_cluster_total_nodes:</td>\n",
              "<td>1</td></tr>\n",
              "<tr><td>H2O_cluster_free_memory:</td>\n",
              "<td>3.172 Gb</td></tr>\n",
              "<tr><td>H2O_cluster_total_cores:</td>\n",
              "<td>2</td></tr>\n",
              "<tr><td>H2O_cluster_allowed_cores:</td>\n",
              "<td>2</td></tr>\n",
              "<tr><td>H2O_cluster_status:</td>\n",
              "<td>locked, healthy</td></tr>\n",
              "<tr><td>H2O_connection_url:</td>\n",
              "<td>http://127.0.0.1:54321</td></tr>\n",
              "<tr><td>H2O_connection_proxy:</td>\n",
              "<td>{\"http\": null, \"https\": null}</td></tr>\n",
              "<tr><td>H2O_internal_security:</td>\n",
              "<td>False</td></tr>\n",
              "<tr><td>Python_version:</td>\n",
              "<td>3.7.13 final</td></tr></table></div>"
            ]
          },
          "metadata": {}
        }
      ]
    },
    {
      "cell_type": "code",
      "source": [
        "df = h2o.import_file('train.csv', destination_frame = 'train')"
      ],
      "metadata": {
        "colab": {
          "base_uri": "https://localhost:8080/"
        },
        "id": "ibncjM_JKKiB",
        "outputId": "824c04d1-f143-44e6-93f4-c383060e7ace"
      },
      "execution_count": null,
      "outputs": [
        {
          "output_type": "stream",
          "name": "stdout",
          "text": [
            "Parse progress: |████████████████████████████████████████████████████████████████| (done) 100%\n"
          ]
        }
      ]
    },
    {
      "cell_type": "code",
      "source": [
        "df1 = h2o.import_file('test.csv', destination_frame = 'test')"
      ],
      "metadata": {
        "colab": {
          "base_uri": "https://localhost:8080/"
        },
        "id": "iuJ1ZJO-KO36",
        "outputId": "098323af-51a6-4edc-f28d-484828e7ce44"
      },
      "execution_count": null,
      "outputs": [
        {
          "output_type": "stream",
          "name": "stdout",
          "text": [
            "Parse progress: |████████████████████████████████████████████████████████████████| (done) 100%\n"
          ]
        }
      ]
    },
    {
      "cell_type": "code",
      "source": [
        "y = 'TARGET'\n",
        "X = df.col_names[1:-1]\n",
        "X_test = df1.col_names[1:]"
      ],
      "metadata": {
        "id": "kpAMY81KKWCy"
      },
      "execution_count": null,
      "outputs": []
    },
    {
      "cell_type": "code",
      "source": [
        "# Because D is categorical\n",
        "df['TARGET'] = df['TARGET'].asfactor()\n",
        "df['TARGET'].levels()"
      ],
      "metadata": {
        "colab": {
          "base_uri": "https://localhost:8080/"
        },
        "id": "O3vhwnPYKb1d",
        "outputId": "3613dcff-1a76-466a-f694-ffbb8db7e50c"
      },
      "execution_count": null,
      "outputs": [
        {
          "output_type": "execute_result",
          "data": {
            "text/plain": [
              "[['0', '1']]"
            ]
          },
          "metadata": {},
          "execution_count": 13
        }
      ]
    },
    {
      "cell_type": "code",
      "source": [
        "gbm_params = {'learn_rate': np.linspace(0.0001, 1, 5).tolist(),\n",
        "               'max_depth': [3, 5, 7],\n",
        "               'ntrees': [50, 100]}\n",
        "gbm = H2OGradientBoostingEstimator(distribution = \"bernoulli\")\n",
        "gbm_grid = H2OGridSearch(model = gbm, grid_id = 'gbm_grid', hyper_params = gbm_params)\n",
        "gbm_grid.train(x=X, y=y, training_frame = df, seed = 2022)"
      ],
      "metadata": {
        "colab": {
          "base_uri": "https://localhost:8080/"
        },
        "id": "1sISN_OQKfBG",
        "outputId": "1bbe9140-9598-4380-cfb5-bd43541c842a"
      },
      "execution_count": null,
      "outputs": [
        {
          "output_type": "stream",
          "name": "stdout",
          "text": [
            "gbm Grid Build progress: |███████████████████████████████████████████████████████| (done) 100%\n",
            "      learn_rate  max_depth  ntrees          model_ids   logloss\n",
            "0       0.250075        7.0   100.0  gbm_grid_model_27  0.107282\n",
            "1       0.250075        7.0    50.0  gbm_grid_model_12  0.112599\n",
            "2       0.500050        7.0   100.0  gbm_grid_model_28  0.115165\n",
            "3       0.500050        7.0    50.0  gbm_grid_model_13  0.116138\n",
            "4       0.250075        5.0   100.0  gbm_grid_model_22  0.117101\n",
            "5       0.500050        5.0   100.0  gbm_grid_model_23  0.117581\n",
            "6       0.500050        5.0    50.0   gbm_grid_model_8  0.121254\n",
            "7       0.250075        5.0    50.0   gbm_grid_model_7  0.122130\n",
            "8       0.500050        3.0   100.0  gbm_grid_model_18  0.124868\n",
            "9       0.750025        7.0   100.0  gbm_grid_model_29  0.126144\n",
            "10      0.250075        3.0   100.0  gbm_grid_model_17  0.127896\n",
            "11      0.500050        3.0    50.0   gbm_grid_model_3  0.130226\n",
            "12      0.750025        3.0    50.0   gbm_grid_model_4  0.130472\n",
            "13      0.250075        3.0    50.0   gbm_grid_model_2  0.131193\n",
            "14      0.750025        3.0   100.0  gbm_grid_model_19  0.134068\n",
            "15      0.750025        7.0    50.0  gbm_grid_model_14  0.134579\n",
            "16      1.000000        3.0    50.0   gbm_grid_model_5  0.138047\n",
            "17      1.000000        3.0   100.0  gbm_grid_model_20  0.140658\n",
            "18      1.000000        5.0    50.0  gbm_grid_model_10  0.147539\n",
            "19      1.000000        5.0   100.0  gbm_grid_model_25  0.150996\n",
            "20      0.000100        7.0   100.0  gbm_grid_model_26  0.165642\n",
            "21      0.000100        5.0   100.0  gbm_grid_model_21  0.165778\n",
            "22      0.000100        3.0   100.0  gbm_grid_model_16  0.165911\n",
            "23      0.000100        7.0    50.0  gbm_grid_model_11  0.166100\n",
            "24      0.000100        5.0    50.0   gbm_grid_model_6  0.166169\n",
            "25      0.000100        3.0    50.0   gbm_grid_model_1  0.166237\n",
            "26      0.750025        5.0   100.0  gbm_grid_model_24  0.189882\n",
            "27      0.750025        5.0    50.0   gbm_grid_model_9  0.193095\n",
            "28      1.000000        7.0    50.0  gbm_grid_model_15  0.575127\n",
            "29      1.000000        7.0   100.0  gbm_grid_model_30  0.604887\n"
          ]
        },
        {
          "output_type": "execute_result",
          "data": {
            "text/plain": [
              ""
            ]
          },
          "metadata": {},
          "execution_count": 14
        }
      ]
    },
    {
      "cell_type": "code",
      "source": [
        "gcv_list = gbm_grid.get_grid(sort_by='auc',decreasing=True)\n",
        "best_gcv = gcv_list.models[0]"
      ],
      "metadata": {
        "id": "1H3mAOfxKxyH"
      },
      "execution_count": null,
      "outputs": []
    },
    {
      "cell_type": "code",
      "source": [
        "y_pred = best_gcv.predict(test_data = df1)"
      ],
      "metadata": {
        "colab": {
          "base_uri": "https://localhost:8080/"
        },
        "id": "QVpI1SjZLVfl",
        "outputId": "d45b262d-7f7e-4143-df06-41dc06da957c"
      },
      "execution_count": null,
      "outputs": [
        {
          "output_type": "stream",
          "name": "stdout",
          "text": [
            "gbm prediction progress: |███████████████████████████████████████████████████████| (done) 100%\n"
          ]
        }
      ]
    },
    {
      "cell_type": "code",
      "source": [
        "y_pred_df = y_pred.as_data_frame()"
      ],
      "metadata": {
        "id": "U9UrK5pXLkjk"
      },
      "execution_count": null,
      "outputs": []
    },
    {
      "cell_type": "code",
      "source": [
        "submit = pd.concat([df1['ID'].as_data_frame(), y_pred_df[['p1']]], axis = 1)\n",
        "submit.rename(columns = {'p1': 'TARGET'}, inplace = True)"
      ],
      "metadata": {
        "id": "uKaQCO6pLn2g"
      },
      "execution_count": null,
      "outputs": []
    },
    {
      "cell_type": "code",
      "source": [
        "submit.to_csv('submit-21-05-GBM.csv', index=False)"
      ],
      "metadata": {
        "id": "XoHJQVQ5Lq0c"
      },
      "execution_count": null,
      "outputs": []
    },
    {
      "cell_type": "markdown",
      "source": [
        "Score: 0.80911\n",
        "\n",
        "Public score: 0.82673"
      ],
      "metadata": {
        "id": "It9O6veCsUFT"
      }
    },
    {
      "cell_type": "code",
      "source": [
        "h2o.cluster().shutdown()"
      ],
      "metadata": {
        "id": "PjnFHx-erh-a",
        "outputId": "ddf419c9-c40d-42fc-cb8d-0d1f9a12a771",
        "colab": {
          "base_uri": "https://localhost:8080/"
        }
      },
      "execution_count": null,
      "outputs": [
        {
          "output_type": "stream",
          "name": "stdout",
          "text": [
            "H2O session _sid_8dc7 closed.\n"
          ]
        }
      ]
    },
    {
      "cell_type": "code",
      "source": [
        ""
      ],
      "metadata": {
        "id": "0yOUV1y6vH26"
      },
      "execution_count": null,
      "outputs": []
    }
  ]
}
